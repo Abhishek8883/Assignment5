{
 "cells": [
  {
   "cell_type": "markdown",
   "id": "favorite-ideal",
   "metadata": {},
   "source": [
    "### Assignment 5\n",
    "### Registration Id: SIRSS1152\n",
    "### Name : Abhishek Pandey\n"
   ]
  },
  {
   "cell_type": "markdown",
   "id": "actual-woman",
   "metadata": {},
   "source": [
    "#### Q1.Given a list of integers, write a function to return the sum of all prime numbers in that\n",
    "#### list."
   ]
  },
  {
   "cell_type": "code",
   "execution_count": 7,
   "id": "efficient-protocol",
   "metadata": {},
   "outputs": [
    {
     "name": "stdout",
     "output_type": "stream",
     "text": [
      "Enter the numbers separated by spaces:5 6 7 8 9 10\n",
      "Sum of prime numbers amongst the given integers is : 12\n"
     ]
    }
   ],
   "source": [
    "\n",
    "def primeSum( arr, n):\n",
    "    max_val = max(arr)\n",
    "\n",
    "\n",
    "    prime=[True for i in range(max_val + 1)]\n",
    "\n",
    "\n",
    "    prime[0] = False\n",
    "    prime[1] = False\n",
    "    for p in range(2, max_val + 1):\n",
    "        if(p * p > max_val):\n",
    "            break\n",
    "\n",
    "        # If prime[p] is not changed, then\n",
    "        # it is a prime\n",
    "        if (prime[p] == True):\n",
    "\n",
    "            for i in range(p * 2, max_val+1, p):\n",
    "                prime[i] = False\n",
    "\n",
    "    sum = 0\n",
    "\n",
    "    for i in range(n):\n",
    "        if (prime[arr[i]]):\n",
    "            sum += arr[i]\n",
    "\n",
    "    return sum\n",
    "\n",
    "n = input(\"Enter the numbers separated by spaces:\")\n",
    "\n",
    "\n",
    "arr =list(map(int,n.split()))\n",
    "\n",
    "n = len(arr)\n",
    "\n",
    "print(f\"Sum of prime numbers amongst the given integers is : {primeSum(arr, n)}\")\n",
    "\n",
    "\n"
   ]
  },
  {
   "cell_type": "markdown",
   "id": "worth-reply",
   "metadata": {},
   "source": [
    "#### Q2. Given a list of integers, write a function to check whether the list is strictly increasing or\n",
    "#### not."
   ]
  },
  {
   "cell_type": "code",
   "execution_count": 9,
   "id": "grave-isolation",
   "metadata": {},
   "outputs": [
    {
     "name": "stdout",
     "output_type": "stream",
     "text": [
      "Enter the number separated by spaces5 8 10 11 15\n",
      "Original list : [5, 8, 10, 11, 15]\n",
      "Is list strictly increasing ? : True\n"
     ]
    }
   ],
   "source": [
    "n = input(\"Enter the number separated by spaces\")\n",
    "\n",
    "lst = list(map(int,n.split()))\n",
    "  \n",
    "print (\"Original list : \" + str(lst))\n",
    "  \n",
    "temp = all(i < j for i, j in zip(lst, lst[1:]))\n",
    "  \n",
    "print (\"Is list strictly increasing ? : \" + str(temp))"
   ]
  },
  {
   "cell_type": "markdown",
   "id": "valuable-bibliography",
   "metadata": {},
   "source": [
    "#### Q3. Write a function to check whether a given list is expanding or not (the difference\n",
    "#### between adjacent elements should keep on increasing)."
   ]
  },
  {
   "cell_type": "code",
   "execution_count": 11,
   "id": "cleared-liability",
   "metadata": {},
   "outputs": [
    {
     "name": "stdout",
     "output_type": "stream",
     "text": [
      "Enter the numbers separated by spaces:\n",
      "5 6 7 8 9\n",
      "List is expanding:  True\n"
     ]
    }
   ],
   "source": [
    "def expanding(lst):\n",
    "    diff=0\n",
    "    exp=True\n",
    "    for i in range(1,len(lst)):\n",
    "        diff1=lst[i]-lst[i-1]\n",
    "        if diff>diff1:\n",
    "            exp=False\n",
    "            break\n",
    "        diff=diff1\n",
    "            \n",
    "    return  exp\n",
    "\n",
    "n=input(\"Enter the numbers separated by spaces:\\n\")\n",
    "\n",
    "list1=list(map(int,n.split()))\n",
    "\n",
    "print('List is expanding: ',expanding(list1))"
   ]
  },
  {
   "cell_type": "markdown",
   "id": "regulation-assets",
   "metadata": {},
   "source": [
    "#### Q4. Write a function to calculate all permutations of a given string. (Without using itertools)"
   ]
  },
  {
   "cell_type": "code",
   "execution_count": 13,
   "id": "neither-capture",
   "metadata": {},
   "outputs": [
    {
     "name": "stdout",
     "output_type": "stream",
     "text": [
      "Enter the string : ABCD\n",
      "All possible permutatins  are : \n",
      "ABCD  ABDC  ACBD  ACDB  ADBC  ADCB  BACD  BADC  BCAD  BCDA  BDAC  BDCA  CABD  CADB  CBAD  CBDA  CDAB  CDBA  DABC  DACB  DBAC  DBCA  DCAB  DCBA  "
     ]
    }
   ],
   "source": [
    "def permute(s, ans):\n",
    "    if (len(s) == 0):\n",
    "        print(ans, end = \"  \")\n",
    "        return\n",
    "     \n",
    "    for i in range(len(s)):\n",
    "        ch = s[i]\n",
    "        left_substr = s[0:i]\n",
    "        right_substr = s[i + 1:]\n",
    "        rest = left_substr + right_substr\n",
    "        permute(rest, ans + ch)\n",
    " \n",
    "ans = \"\"\n",
    " \n",
    "s = input(\"Enter the string : \")\n",
    " \n",
    "print(\"All possible permutatins  are : \")\n",
    "permute(s, ans)\n",
    " "
   ]
  },
  {
   "cell_type": "code",
   "execution_count": null,
   "id": "traditional-signature",
   "metadata": {},
   "outputs": [],
   "source": []
  }
 ],
 "metadata": {
  "kernelspec": {
   "display_name": "Python 3",
   "language": "python",
   "name": "python3"
  },
  "language_info": {
   "codemirror_mode": {
    "name": "ipython",
    "version": 3
   },
   "file_extension": ".py",
   "mimetype": "text/x-python",
   "name": "python",
   "nbconvert_exporter": "python",
   "pygments_lexer": "ipython3",
   "version": "3.9.0"
  }
 },
 "nbformat": 4,
 "nbformat_minor": 5
}
